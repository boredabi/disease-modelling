{
 "cells": [
  {
   "cell_type": "code",
   "execution_count": 104,
   "id": "a0db9797",
   "metadata": {},
   "outputs": [
    {
     "name": "stdout",
     "output_type": "stream",
     "text": [
      "This is the known I(t) solution to the basic Exponential disease Model from t=0 to t=50 years.\n",
      "\n",
      "The COVID-19 Alpha Variant, first seen in November 2020, is shown red.\n",
      "The COVID-19 Delta Variant, firs seen in December 2020, is blue.\n",
      "The COVID-19 Gamma Variant, first seen in January 2021, is shown green.\n"
     ]
    },
    {
     "data": {
      "image/png": "[encoded data removed]",
      "text/plain": [
       "<Figure size 432x288 with 1 Axes>"
      ]
     },
     "metadata": {
      "needs_background": "light"
     },
     "output_type": "display_data"
    }
   ],
   "source": [
    "#EXAMPLE 1: Graph the known I(t)=I0*e^(rSt/N)\n",
    "import matplotlib.pyplot as plt\n",
    "import numpy as np\n",
    "import math\n",
    "t_points=np.arange(0,50,0.01) #time from 0-50 years in incraments of 0.01 years\n",
    "\n",
    "def true_answer(I0,r,S,N,t_points):\n",
    "    #The equation is I(t)=I0*e^(rSt/N)\n",
    "    I=I0 * np.exp((r*S/N)*t_points)\n",
    "    return I\n",
    "\n",
    "N = 100 #N is the number of people, fixed at 100\n",
    "I0= 1 #I0 is the initial number of infected, fixed at 1\n",
    "S=1.0 #I said that everyone is 100% likely to get the disease, so S=1.0\n",
    "\n",
    "alpha_points=true_answer(I0,5,S,N,t_points)\n",
    "gamma_points=true_answer(I0,3.95,S,N,t_points)\n",
    "delta_points=true_answer(I0,9.5,S,N,t_points)\n",
    "\n",
    "plt.plot(t_points,alpha_points,'k',color='red')\n",
    "plt.plot(t_points,gamma_points,'k',color='green')\n",
    "plt.plot(t_points,delta_points,'k',color='blue')\n",
    "plt.xlabel(\"Time in years\")\n",
    "plt.ylabel(\"Number of people infected\")\n",
    "\n",
    "print(\"This is the known I(t) solution to the basic Exponential disease Model from t=0 to t=50 years.\")\n",
    "print(\"\\nThe COVID-19 Alpha Variant, first seen in November 2020, is shown red.\")\n",
    "print(\"The COVID-19 Delta Variant, firs seen in December 2020, is blue.\")\n",
    "print(\"The COVID-19 Gamma Variant, first seen in January 2021, is shown green.\")"
   ]
  },
  {
   "cell_type": "code",
   "execution_count": 115,
   "id": "4e80ca88",
   "metadata": {},
   "outputs": [
    {
     "name": "stdout",
     "output_type": "stream",
     "text": [
      "This is the calculated I(t) solution given dI/dt = rS/N * I(t)\n",
      "\n",
      "The COVID-19 Alpha Variant, first seen in November 2020, is shown red.\n",
      "The COVID-19 Delta Variant, firs seen in December 2020, is blue.\n",
      "The COVID-19 Gamma Variant, first seen in January 2021, is shown green.\n",
      "\n",
      "Look, these graphs are the same! As they should be! ;)\n"
     ]
    },
    {
     "data": {
      "image/png": "[encoded data removed]",
      "text/plain": [
       "<Figure size 432x288 with 1 Axes>"
      ]
     },
     "metadata": {
      "needs_background": "light"
     },
     "output_type": "display_data"
    }
   ],
   "source": [
    "#EXAMPLE 2: Calculate I(t) given dI/dt = rS/N * I(t)\n",
    "import matplotlib.pyplot as plt\n",
    "import numpy as np\n",
    "import math\n",
    "\n",
    "#step 1 = write the diff_eq function\n",
    "a=10**(-3)\n",
    "t_points=np.arange(0,50,2*a) #I remember the 2*a from before\n",
    "\n",
    "#This is my updated version of his diff function, where you can input the constants too\n",
    "def model_exp(r,S,N,f):\n",
    "    #The equation is dI/dt = rS/N * I(t)\n",
    "    f_dot = (r*S/N)*f\n",
    "    return f_dot\n",
    "\n",
    "#This is my updated version of his Euler function, with one condensed for loop\n",
    "def find_function(I0,r,S,N,t_points):\n",
    "    f = np.empty(len(t_points)) #This line resets f every time find_function is called\n",
    "    f[0]=I0 #the initial value\n",
    "    for t in range(0,len(t_points)-1):\n",
    "        f_dot = model_exp(r,S,N,f[t])\n",
    "        f[t+1] = f[t]+2*a*f_dot #I remember the 2*a from before\n",
    "    return f\n",
    "\n",
    "#step 2 = calculate everything\n",
    "N = 100 #N is the number of people, fixed at 100\n",
    "I0= 1 #I0 is the initial number of infected, fixed at 1\n",
    "S=1.0 #I said that everyone is 100% likely to get the disease, so S=1.0\n",
    "\n",
    "red_points = find_function(I0,5,S,N,t_points)\n",
    "green_points = find_function(I0,3.95,S,N,t_points)\n",
    "blue_points = find_function(I0,9.5,S,N,t_points)\n",
    "\n",
    "#step 3 = plot everything\n",
    "plt.plot(t_points,red_points,'k',color='red')\n",
    "plt.plot(t_points,green_points,'k',color='green')\n",
    "plt.plot(t_points,blue_points,'k',color='blue')\n",
    "plt.xlabel(\"Time in years\")\n",
    "plt.ylabel(\"Number of people infected\")\n",
    "\n",
    "print(\"This is the calculated I(t) solution given dI/dt = rS/N * I(t)\")\n",
    "print(\"\\nThe COVID-19 Alpha Variant, first seen in November 2020, is shown red.\")\n",
    "print(\"The COVID-19 Delta Variant, firs seen in December 2020, is blue.\")\n",
    "print(\"The COVID-19 Gamma Variant, first seen in January 2021, is shown green.\")\n",
    "print(\"\\nLook, these graphs are the same! As they should be! ;)\")"
   ]
  },
  {
   "cell_type": "code",
   "execution_count": 22,
   "id": "12b9a253",
   "metadata": {},
   "outputs": [],
   "source": [
    "##GARBAGE DUMP OF CODE\n",
    "#It doesn't work, but I don't want to delete it\n",
    "\n",
    "#Attempt 1.1: I modified the previous function for recursion\n",
    "#def diff_eq_I(I0,t_points,a, r, S, N):\n",
    "    #I_points=[I0]\n",
    "    #for i0 in range(1,len(t_points)):\n",
    "        #I_previous = I_points[-1]\n",
    "        #dI = (r*S/N) * I_previous\n",
    "        #I_next = I_previous + dI\n",
    "        #I_points.append(I_next)\n",
    "    #return I_points\n",
    "\n",
    "#Attempt 1.0: I started with the basic previous function\n",
    "#def diff_eq(g,f0,x,a):\n",
    "    #Our ending goal is to export the original function: f_points\n",
    "    #We are going to start with f0, the initial known value\n",
    "    #f_points=[f0] \n",
    "    #Now we find the next points\n",
    "    #for i0 in range(1,len(x)):\n",
    "        #f_previous = f_points[-1]\n",
    "        #df = g(x[i0]+a) * 2*a\n",
    "        #f_next = f_previous + df\n",
    "        #f_points.append(f_next)\n",
    "    #return f_points"
   ]
  }
 ],
 "metadata": {
  "kernelspec": {
   "display_name": "Python 3 (ipykernel)",
   "language": "python",
   "name": "python3"
  },
  "language_info": {
   "codemirror_mode": {
    "name": "ipython",
    "version": 3
   },
   "file_extension": ".py",
   "mimetype": "text/x-python",
   "name": "python",
   "nbconvert_exporter": "python",
   "pygments_lexer": "ipython3",
   "version": "3.7.9"
  }
 },
 "nbformat": 4,
 "nbformat_minor": 5
}
